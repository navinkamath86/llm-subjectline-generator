{
 "cells": [
  {
   "cell_type": "code",
   "execution_count": 4,
   "id": "84957dea-9001-46a3-a48d-e1c14a7ae59e",
   "metadata": {},
   "outputs": [],
   "source": [
    "# Import necessary packages\n",
    "\n",
    "import os\n",
    "import requests\n",
    "from dotenv import load_dotenv\n",
    "from bs4 import BeautifulSoup\n",
    "from IPython.display import Markdown, display\n",
    "from openai import OpenAI"
   ]
  },
  {
   "cell_type": "code",
   "execution_count": 6,
   "id": "160df786-88a2-4c81-abed-c6b4dba8f97c",
   "metadata": {},
   "outputs": [
    {
     "name": "stdout",
     "output_type": "stream",
     "text": [
      "API key found and looks good so far!\n"
     ]
    }
   ],
   "source": [
    "# Load environment variables in a file called .env\n",
    "\n",
    "load_dotenv(override=True)\n",
    "api_key = os.getenv('OPENAI_API_KEY')\n",
    "\n",
    "# Check the key\n",
    "\n",
    "if not api_key:\n",
    "    print(\"No API key was found - please head over to the troubleshooting notebook in this folder to identify & fix!\")\n",
    "elif not api_key.startswith(\"sk-proj-\"):\n",
    "    print(\"An API key was found, but it doesn't start sk-proj-; please check you're using the right key - see troubleshooting notebook\")\n",
    "elif api_key.strip() != api_key:\n",
    "    print(\"An API key was found, but it looks like it might have space or tab characters at the start or end - please remove them - see troubleshooting notebook\")\n",
    "else:\n",
    "    print(\"API key found and looks good so far!\")"
   ]
  },
  {
   "cell_type": "code",
   "execution_count": 8,
   "id": "f019cfed-4efe-4f19-b01a-8a12173ef17c",
   "metadata": {},
   "outputs": [],
   "source": [
    "openai = OpenAI()"
   ]
  },
  {
   "cell_type": "code",
   "execution_count": 10,
   "id": "418d1033-b194-4eeb-ba10-ce10a3d67117",
   "metadata": {},
   "outputs": [
    {
     "name": "stdout",
     "output_type": "stream",
     "text": [
      "Subject: Updated QA Automation Plan & Urgent Infra Dependencies for NovaStride 2.1 Rollout\n"
     ]
    }
   ],
   "source": [
    "# Step 1: Create prompts\n",
    "\n",
    "system_prompt = \"\"\"You are an expert in email communication strategy and subject line optimization.\n",
    "Your task is to read the entire email thread, including all email trails, replies, forwarded content, and contextual history.\n",
    "Evaluate the content, tone (formal/informal/assertive/polite/etc.), urgency, audience, and call to action.\n",
    "Then, craft a concise, clear, and impactful subject line that:\n",
    "\n",
    "Accurately reflects the essence and intent of the message\n",
    "\n",
    "Grabs attention without clickbait\n",
    "\n",
    "Uses powerful, specific language\n",
    "\n",
    "Reflects the right tone based on sender-recipient relationship\n",
    "\n",
    "Optionally includes urgency markers (e.g., \"[Action Required]\", \"Reminder\", \"FYI\", \"Update\", etc.)\n",
    "\n",
    "Never generate the subject line in isolation. Always consider the entire context and flow of the conversation to avoid misleading or generic subjects.\n",
    "If the email is part of a reply thread, you may decide whether to retain or modify the existing subject line to better suit the final version of the message.\n",
    "Only return the final subject line. Do not include any explanation or commentary.\n",
    "\"\"\"\n",
    "user_prompt = \"\"\"\n",
    "    From: Rhea Das <rhea.das@technovus.ai\n",
    ">\n",
    "To: Vikram Shetty <vikram.shetty@novastride.com\n",
    ">\n",
    "Cc: Alok Jain <alok.jain@technovus.ai\n",
    ">, Pranali Bhatt <pranali.bhatt@novastride.com\n",
    ">\n",
    "Date: September 3, 2025\n",
    "Subject: Re: Recalibrated QA Milestones + Infra Dependencies for NovaStride Platform 2.1 Rollout\n",
    "\n",
    "Hi Vikram,\n",
    "\n",
    "As a follow-up to your comments on infra readiness and delayed pipeline sync, please find below the recalibrated QA automation plan for the NovaStride 2.1 rollout, incorporating both internal QA retrospectives and your PMO’s feedback loop:\n",
    "\n",
    "🔧 Key Updates\n",
    "\n",
    "Revised Milestone Dates:\n",
    "\n",
    "System Test Signoff: Moved from Sept 12 → Sept 18\n",
    "\n",
    "NFR (Load, Resiliency, Failover) Testing: Sept 19–25\n",
    "\n",
    "Business Flow Regression Suite (143 scripts): Sept 13 baseline freeze\n",
    "\n",
    "Production Readiness checkpoint: Sept 27\n",
    "\n",
    "Infra Dependencies Identified:\n",
    "\n",
    "Delays in provisioning K8s-based staging environments for tenant isolation testing\n",
    "\n",
    "Awaiting SSH access for Jenkins build runners (ticket #NS-11298 still open)\n",
    "\n",
    "LoadGen cluster autoscaling for soak tests yet to be signed off by your DevOps lead (pending since Aug 29)\n",
    "\n",
    "Automation & Quality Improvements:\n",
    "\n",
    "Migrated critical test suites to Playwright + TestRail integration\n",
    "\n",
    "Baseline stability achieved for dynamic dashboards (90%+ pass rate in last 3 cycles)\n",
    "\n",
    "Introduced failure triage pipeline via SlackOps for real-time alerting\n",
    "\n",
    "We’re aligned with the goal of not letting this impact UAT or GA timelines. However, access bottlenecks must be cleared by EOD Thursday to proceed with the next smoke builds.\n",
    "\n",
    "Let me know if you’d like a walkthrough of the updated dependency matrix or plan a joint triage call tomorrow.\n",
    "\n",
    "Best regards,\n",
    "Rhea Das\n",
    "QA Program Lead\n",
    "Technovus AI\n",
    "\n",
    "From: Vikram Shetty <vikram.shetty@novastride.com\n",
    ">\n",
    "To: Rhea Das <rhea.das@technovus.ai\n",
    ">\n",
    "Date: August 30, 2025\n",
    "Subject: Recalibrated QA Milestones + Infra Dependencies for NovaStride Platform 2.1 Rollout\n",
    "\n",
    "Hi Rhea,\n",
    "\n",
    "Appreciate the QA sync earlier. Given the recent blocker on the shared staging clusters and the volume of NFR test cases pending, we need to understand:\n",
    "\n",
    "What exact coverage is feasible by Sept 15 if the K8s issue persists\n",
    "\n",
    "Whether you're coordinating test data refreshes with our data stewardship team\n",
    "\n",
    "Status on Jenkins triggers being linked to our staging commits\n",
    "\n",
    "Any scope creep observed post last sprint planning\n",
    "\n",
    "Please also call out any environment-related slippages in your weekly summary going forward.\n",
    "\n",
    "Thanks,\n",
    "Vikram\n",
    "\"\"\""
   ]
  },
  {
   "cell_type": "code",
   "execution_count": null,
   "id": "da02c352-934f-4995-8546-677c9d328425",
   "metadata": {},
   "outputs": [],
   "source": [
    "# Step 2: Make the messages list\n",
    "\n",
    "messages = [\n",
    "    {\"role\": \"system\", \"content\": system_prompt},\n",
    "    {\"role\": \"user\", \"content\": user_prompt}\n",
    "]"
   ]
  },
  {
   "cell_type": "code",
   "execution_count": null,
   "id": "3d52f3c3-5448-4107-bcac-eb2685287fc4",
   "metadata": {},
   "outputs": [],
   "source": [
    "# Step 3: Call OpenAI, run the prompt and store the result\n",
    "\n",
    "response = openai.chat.completions.create(\n",
    "        model = \"gpt-4o-mini\",\n",
    "        messages = messages\n",
    "    )\n",
    "result = response.choices[0].message.content"
   ]
  },
  {
   "cell_type": "code",
   "execution_count": null,
   "id": "22f7e963-51d4-42a8-a9bc-2f641f7e6f81",
   "metadata": {},
   "outputs": [],
   "source": [
    "# Step 4: print the result\n",
    "\n",
    "print(result)"
   ]
  }
 ],
 "metadata": {
  "kernelspec": {
   "display_name": "Python 3 (ipykernel)",
   "language": "python",
   "name": "python3"
  },
  "language_info": {
   "codemirror_mode": {
    "name": "ipython",
    "version": 3
   },
   "file_extension": ".py",
   "mimetype": "text/x-python",
   "name": "python",
   "nbconvert_exporter": "python",
   "pygments_lexer": "ipython3",
   "version": "3.11.13"
  }
 },
 "nbformat": 4,
 "nbformat_minor": 5
}
